{
  "nbformat": 4,
  "nbformat_minor": 0,
  "metadata": {
    "colab": {
      "provenance": [],
      "collapsed_sections": [],
      "private_outputs": true
    },
    "kernelspec": {
      "name": "python3",
      "display_name": "Python 3"
    },
    "language_info": {
      "name": "python"
    }
  },
  "cells": [
    {
      "cell_type": "code",
      "execution_count": null,
      "metadata": {
        "id": "SnT0iUh-4eTM"
      },
      "outputs": [],
      "source": [
        "# Libraries\n",
        "\n",
        "import pandas as pd\n",
        "import numpy as np\n",
        "import json\n",
        "from geopy.geocoders import Nominatim \n",
        "\n",
        "# Read information \n",
        "!pip install --upgrade xlrd\n",
        "!pip install --upgrade openpyxl\n",
        "!gdown https://drive.google.com/uc?id=1KeAiGZHqGqCcYEUQfpGAyO8eAvN4Wmve\n",
        "!gdown https://drive.google.com/uc?id=1GLaiLdQdI7MKPMqWy41OI7oITz_eAfhU\n",
        "!gdown https://drive.google.com/uc?id=1Nb3_iXEvEYMGBxpiTpIA0w_mutq6a-Pu\n",
        "!gdown https://drive.google.com/uc?id=1p-7gsX9GvGSu7XptfpY-Uu69x-NNJcQd\n",
        "!gdown https://drive.google.com/uc?id=1d3IH4JVSrV_1rsBcmoFM7AZ_6z2AcdSz\n",
        "\n"
      ]
    },
    {
      "cell_type": "code",
      "source": [
        "asesinatos = pd.read_excel('/content/AsesinatosSelectivos1981-2012.xlsx')\n",
        "periodistas = pd.read_csv('/content/PeriodistasAsesinados.csv')\n",
        "violencia = pd.read_csv('/content/Violencia.csv')"
      ],
      "metadata": {
        "id": "InvwFaPynKj3"
      },
      "execution_count": null,
      "outputs": []
    },
    {
      "cell_type": "code",
      "source": [
        "# creación de BD Final \n",
        "columns = ['Departamento','Municipio','Fuente','Victima','Agente','Año','Tipo_agresion']\n",
        "df_final = pd.DataFrame(columns = columns)"
      ],
      "metadata": {
        "id": "AHvTxb-wocpL"
      },
      "execution_count": null,
      "outputs": []
    },
    {
      "cell_type": "markdown",
      "source": [
        "# Data Cleaning\n",
        "------\n",
        "\n",
        "DataFrames usados:\n",
        "\n",
        "* asesinatos\n",
        "* periodistas\n",
        "* violencia"
      ],
      "metadata": {
        "id": "TNNUZCprwims"
      }
    },
    {
      "cell_type": "code",
      "source": [
        "# Eliminación de columnas basura para cada dataset\n",
        "\n",
        "# Estructura Dataset ---> ['Departamento','Municipio','Fuente','Victima','Agente','Año','Tipo_agresion']\n",
        "\n",
        "# Dataset Asesinatos\n",
        "\n",
        "#asesinatos.info()\n",
        "asesinatos_f = asesinatos.drop(columns = ['Día','Mes','Lugar de Ocurrencia','Tipo de Implicado (2)','Unnamed: 10'])\n",
        "asesinatos_final = pd.DataFrame().assign(Departamento = asesinatos_f['Departamento'],Municipio = asesinatos_f['Municipio'],\n",
        "                                        Agente = asesinatos_f['Tipo de Implicado (1)'],Victima = asesinatos_f['Nº Víctimas'],\n",
        "                                        Fuente = asesinatos_f['Fuente'],Año = asesinatos_f['Año'],Tipo_agresion = np.nan)\n",
        "\n",
        "\n",
        "asesinatos_final['Año'] = asesinatos_final['Año'].fillna(0)\n",
        "asesinatos_final['Año'] = asesinatos_final['Año'].astype(int)\n"
      ],
      "metadata": {
        "id": "H61P5zgZAcv3"
      },
      "execution_count": null,
      "outputs": []
    },
    {
      "cell_type": "code",
      "source": [
        "# Dataset Periodistas\n",
        "\n",
        "periodistas_f = periodistas.drop(columns = ['X','Y','OBJECTID','Codigo_Municipio','Descripcion','Fecha_Actualizacion','Total_asesinatos_00_15','Total_asesinatos_75_15'])\n",
        "list_asesinatosPeri = []\n",
        "list_años = []\n",
        "\n",
        "periodistas_f = periodistas_f.assign(Victimas = 0)\n",
        "\n",
        "for i in range(len(periodistas['Total_asesinatos_00_15'])):\n",
        "  periodistas_f['Victimas'][i] = (periodistas['Total_asesinatos_00_15'][i]+periodistas['Total_asesinatos_75_15'][i])\n",
        "  año = periodistas_f['Periodo'][i].split('-')\n",
        "  list_años.append(año[1])\n",
        "\n",
        "periodistas_final = pd.DataFrame().assign(Departamento = periodistas_f['Nombre_Departamento'],Municipio = periodistas_f['Nombre_Municipio'],\n",
        "                                          Agente = np.nan,Victima = periodistas_f['Victimas'],Fuente = periodistas_f['Fuente'],Año = list_años,\n",
        "                                          Tipo_agresion = np.nan)\n",
        "periodistas_final.head()"
      ],
      "metadata": {
        "id": "1rB9x_VF4kjO"
      },
      "execution_count": null,
      "outputs": []
    },
    {
      "cell_type": "code",
      "source": [
        "# Dataset Victimas\n",
        "\n",
        "violencia_f = violencia.drop(columns = ['ID Caso','ID Caso Relacionado','Mes','Día','Código DANE de Municipio','Región',\n",
        "                                        'Descripción Presunto Responsable','latitud-longitud'])\n",
        "tipo_violenciaList = []\n",
        "\n",
        "for index in violencia.index: \n",
        "  tipo = 'NaN'\n",
        "  if violencia['Abandono o Despojo Forzado de Tierras'][index] == 1: \n",
        "    tipo = 'Abandono o Despojo Forzado de Tierras'\n",
        "  elif violencia['Amenaza o Intimidación'][index] == 1:\n",
        "    tipo = 'Amenaza o Intimidación'\n",
        "  elif violencia['Ataque Contra Misión Médica'][index] == 1:\n",
        "    tipo = 'Ataque Contra Misión Médica'\n",
        "  elif violencia['Confinamiento o Restricción a la Movilidad'][index] == 1:\n",
        "    tipo = 'Confinamiento o Restricción a la Movilidad'\n",
        "  elif violencia['Desplazamiento Forzado'][index] == 1:\n",
        "    tipo = 'Desplazamiento Forzado'\n",
        "  elif violencia['Extorsión'][index] == 1 : \n",
        "    tipo = 'Extorsión'\n",
        "  elif violencia['Lesionados Civiles'][index] == 1 :\n",
        "    tipo = 'Lesionados Civiles'\n",
        "  elif violencia['Pillaje'][index] == 1 :\n",
        "    tipo = 'Pillaje'\n",
        "  elif violencia['Tortura'][index] == 1 :\n",
        "    tipo = 'Tortura'\n",
        "  elif violencia['Violencia Basada en Género'][index] == 1 :\n",
        "    tipo = 'Violencia Basada en Género'\n",
        "  elif violencia['Otro Hecho Simultáneo'][index] == 1 :\n",
        "    tipo = 'Otro Hecho Simultáneo'\n",
        "  tipo_violenciaList.append(tipo)\n",
        "\n",
        "violencia_final = pd.DataFrame().assign(Departamento = violencia_f['Departamento'], Municipio =  violencia_f['Municipio'],\n",
        "                                        Agente = violencia_f['Presunto Responsable'],Victima = violencia_f['Total de Víctimas del Caso'],\n",
        "                                        Fuente = 'CNMH',Año = violencia_f['Año'],Tipo_agresion =  tipo_violenciaList)  \n",
        "violencia_final['Victima'].head()"
      ],
      "metadata": {
        "id": "7nmQc2Om_Gio"
      },
      "execution_count": null,
      "outputs": []
    },
    {
      "cell_type": "code",
      "source": [
        "# Agregar datos finales a la matriz resultante\n",
        "#print(pd.DataFrame(periodistas_final.groupby('Victima')))\n",
        "df_final = df_final.append(periodistas_final)\n",
        "df_final = df_final.append(asesinatos_final)\n",
        "df_final = df_final.append(violencia_final)\n",
        "\n",
        "print(pd.DataFrame(df_final.groupby('Victima'))[0])\n"
      ],
      "metadata": {
        "id": "fgX1sEHoQDyb"
      },
      "execution_count": null,
      "outputs": []
    },
    {
      "cell_type": "code",
      "source": [
        "# Correción de tipos de datos para cada columna\n",
        "columnas = list(df_final.columns)\n",
        "columnas.remove('Año')\n",
        "columnas.remove('Victima')\n",
        "\n",
        "for columna in columnas:\n",
        "  df_final[columna] = df_final[columna].str.upper().str.title() \n",
        "\n",
        "nan_index = list((df_final[df_final['Departamento'].isnull()]).index)\n",
        "df_final = df_final.drop(nan_index,axis=0)\n",
        "\n",
        "pd.DataFrame(df_final.groupby(df_final['Año']))\n",
        "print(pd.DataFrame(df_final.groupby('Victima'))[0])\n"
      ],
      "metadata": {
        "id": "MT5jdj4iQ4S3"
      },
      "execution_count": null,
      "outputs": []
    },
    {
      "cell_type": "code",
      "source": [
        "df_final.info()\n",
        "pd.DataFrame(df_final.groupby('Victima'))"
      ],
      "metadata": {
        "id": "b5Z5aERVj_kD"
      },
      "execution_count": null,
      "outputs": []
    },
    {
      "cell_type": "code",
      "source": [
        "sum = 0\n",
        "lista_A = [' Antioquia','Antioquia ']\n",
        "for index in df_final.index:\n",
        "  if str(df_final['Departamento'][index]) ==' Antioquia' or str(df_final['Departamento'][index]) == 'Antioquia ' or str(df_final['Departamento'][index]) == 'Antioquia': \n",
        "    df_final['Departamento'][index] = 'Antioquia'\n",
        "  \n",
        "  elif str(df_final['Departamento'][index]) == 'Archipielago De San Andres, Providencia Y Santa Catalina':\n",
        "    df_final['Departamento'][index] = 'Archipielago De San Andres Providencia Y Santa Catalina'\n",
        "\n",
        "  elif str(df_final['Departamento'][index]) == 'Atlántico':\n",
        "    df_final['Departamento'][index] = 'Atlanticsso'\n",
        "\n",
        "  elif str(df_final['Departamento'][index]) == 'Bolívar':\n",
        "    df_final['Departamento'][index] = 'Bolivar'\n",
        "\n",
        "  elif str(df_final['Departamento'][index]) == 'Boyacá':\n",
        "    df_final['Departamento'][index] = 'Boyaca'\n",
        "\n",
        "  elif str(df_final['Departamento'][index]) == 'Caldas ':\n",
        "    df_final['Departamento'][index] = 'Caldas'\n"
      ],
      "metadata": {
        "id": "RCAd4J3flgq7"
      },
      "execution_count": null,
      "outputs": []
    },
    {
      "cell_type": "code",
      "source": [
        "df_final"
      ],
      "metadata": {
        "id": "YSUfZGqQY23l"
      },
      "execution_count": null,
      "outputs": []
    },
    {
      "cell_type": "code",
      "source": [
        "\n",
        "df_final.Departamento = df_final.Departamento.replace({\"Archipielago De San Andres, Providencia Y Santa Catalina\": \"Archipielago De San Andres Providencia Y Santa Catalina\",\n",
        "                                                       \"Antioquia \": \"Antioquia\",\"Atlántico\":\"Atlantico\",\"Bolívar\":\"Bolivar\",\"Boyacá\":\"Boyaca\",\n",
        "                                                       \"Caldas \":\"Caldas\",\"Caquetá\":\"Caqueta\",\"Cauca \":\"Cauca\",\"Chocó\":\"Choco\",\"Chocó \":\"Choco\",\n",
        "                                                       \"Cundinamarca \":\"Cundinamarca\",\"César \":\"César\",\"César\":\"Cesar\",\"Córdoba\":\"Cordoba\",\n",
        "                                                       \"Distrito Capital\":\"Bogota, D. C.\",\"Exterior \":\"Exterior\",\"Guaviare \":\"Guaviare\",\"Córdoba \":\"Cordoba\",\n",
        "                                                       \"Huila \":\"Huila\",\"la Guajira \":\"La Guajira\",\"Magdalena \":\"Magdalena\",\"Meta \":\"Meta\",\"Nariño \":\"Nariño\",\n",
        "                                                       \"Norte De Santander \":\"Norte De Santander\",\"La Guajira \":\"La Guajira\",\"Putumayo \":\"Putumayo\",\n",
        "                                                       \"Quindío\":\"Quindio\",\"Quindío \":\"Quindio\",\"Santafe De Bogota D.C\":\"Bogota, D. C.\",\n",
        "                                                       \"Santander \":\"Santander\",\"Sucre \":\"Sucre\",\"Tolima \":\"Tolima\",\"Vaupés\":\"Vaupes\",\n",
        "                                                       \"Panamá \":\"Panamá\",\" Antioquia\":\"Antioquia\",\" Arauca\":\"Arauca\",\" Santander\":\"Santander\",\n",
        "                                                       \"Atlanticsso\":\"Atlantico\",\"Bogota, D. C.\":\"Bogota\",\"San Andrés Isla\":\"San Andres\",\n",
        "                                                       \"Archipielago De San Andres Providencia Y Santa Catalina\":\"San Andres\",\"Archipielago De San Andres Providencia Y Santa Catalina\":\"San Andres\"})\n",
        "# ELiminar panama, Sin Informacion,Venezuela, Venezuela Exterior)\n",
        "delete_index = []\n",
        "delete_index.append(list(df_final[df_final['Departamento'] == 'Panamá'].index))\n",
        "delete_index.append(list(df_final[df_final['Departamento'] == 'Sin Informacion'].index))\n",
        "delete_index.append(list(df_final[df_final['Departamento'] == 'Venezuela'].index))\n",
        "delete_index.append(list(df_final[df_final['Departamento'] == 'Venezuela (Exterior)'].index))\n",
        "delete_index.append(list(df_final[df_final['Departamento'] == 'Panamá  '].index))\n",
        "delete_index.append(list(df_final[df_final['Departamento'] == 'Brasil'].index))\n",
        "delete_index.append(list(df_final[df_final['Departamento'] == 'Exterior'].index))\n",
        "delete_index.append(list(df_final[df_final['Departamento'] == 'Ecuador'].index))\n",
        "delete_index.append(list(df_final[df_final['Departamento'] == ' '].index))\n",
        " \n",
        "for i in delete_index:\n",
        "    df_final = df_final.drop(i,axis=0)\n"
      ],
      "metadata": {
        "id": "U9wVLyD1sK3c"
      },
      "execution_count": null,
      "outputs": []
    },
    {
      "cell_type": "code",
      "source": [
        "df_final\n",
        "copia_df = df_final\n",
        "\n",
        "#df_final['Victima'] = copia_df['Victima'].fillna(0)\n",
        "#df_final['Victima'][df_final[df_final['Victima'] == '´1'].index[0]] = 1\n",
        "pd.DataFrame(df_final.groupby(df_final.Victima))"
      ],
      "metadata": {
        "id": "6dehhoUYV9E7"
      },
      "execution_count": null,
      "outputs": []
    },
    {
      "cell_type": "code",
      "source": [
        "links=[\n",
        "    '6kxs1V_XTL-f',\n",
        "    'Gj-Wre1mUzow',\n",
        "    '647PGv2LVxL0',\n",
        "    'jDpU1kHTVxL3',\n",
        "    'MElpBJD9VxL5',\n",
        "    '0PW5lnoVxL6',\n",
        "    'WelHHAKMVxL8',\n",
        "    'hRh1RHVOVxL9',\n",
        "    'C--FWhkFVxUA',\n",
        "    'Nw4k6xRuVxUD',\n",
        "    'DCoa0FgBVxUE',\n",
        "    'GQQn2O0KVxUG',\n",
        "    'jtpooRbqVxUI',\n",
        "    'Tl_pNWU1VxUK',\n",
        "    'OgNbHA1jVxfX',\n",
        "    'pk2lqE1lVxfZ',\n",
        "    'gqc8a4ZiVxfa',\n",
        "    'uo6hqDFIVxfc',\n",
        "    'P39dehZxVxfd',\n",
        "    'jS5DXQGBVxfe',\n",
        "    'OAAfvS7UVw12',\n",
        "    '8jLpJHoNVw16',\n",
        "    'Gus9oi3LVw17',\n",
        "    'zvv--3vTVw19',\n",
        "    'MCG0D8WIVw1_',\n",
        "    '0By7KvzsVw2A',\n",
        "    'QMibGCBnVFeX',\n",
        "    'Tkt5ILwyVvRU',\n",
        "    '81WinV6lVvRZ',\n",
        "    '8zDpFABUVvRe',\n",
        "    'mg5VwJ1TgYXj',\n",
        "    'q5WGTGaAgYXn',\n",
        "    '8FPiqwR4gZIF',\n",
        "    '8FPiqwR4gZIF',\n",
        "    '8FPiqwR4gZIF',\n",
        "    '8FPiqwR4gZIF'\n",
        "]\n",
        "print(len(links))"
      ],
      "metadata": {
        "id": "qhdMC2lL4hYv"
      },
      "execution_count": null,
      "outputs": []
    },
    {
      "cell_type": "markdown",
      "source": [
        "# Creación JSON \n",
        "------\n"
      ],
      "metadata": {
        "id": "Cgt3WSAJkk7C"
      }
    },
    {
      "cell_type": "code",
      "source": [
        "\n",
        "# Estructura Dataset ---> ['Departamento','Municipio','Fuente','Victima','Agente','Año','Tipo_agresion']\n",
        "pd.DataFrame(df_final.groupby('Victima'))\n",
        "\n",
        "lista_dep = list(pd.DataFrame(df_final.groupby('Departamento'))[0])\n",
        "print(len(lista_dep))\n",
        "data = {}\n",
        "max_vict = []\n",
        "maxima_victima = 6404\n",
        "cont = 0 \n",
        "for i in lista_dep:\n",
        "  loc = Nominatim(user_agent=\"GetLoc\") \n",
        "  getLoc = loc.geocode(i)\n",
        "  print(i,getLoc.latitude)\n",
        "  print(i,getLoc.longitude)\n",
        "  \n",
        "  lista_temp = []\n",
        "\n",
        "  # Victima : value, tipo_agresion : list, agente : list, fuente : list\n",
        "  depSerie = df_final.groupby('Departamento').get_group(i)\n",
        "  victima_temp = str(depSerie.Victima.count())\n",
        "  max_vict.append(victima_temp)\n",
        "  fuente_temp = list(pd.DataFrame(depSerie.groupby('Fuente'))[0])\n",
        "  \n",
        "  try:\n",
        "    tipo_temp = list(pd.DataFrame(depSerie.groupby('Tipo_agresion'))[0])\n",
        "  except:\n",
        "    tipo_temp = list(\"No hay registro\")\n",
        "  probabilidad = (int(victima_temp)/maxima_victima)*100\n",
        "  \n",
        "  dict_temp = {'Latitud':getLoc.latitude,'Longitud':getLoc.longitude,'Victima':victima_temp,\n",
        "               'Fuente':fuente_temp,'Tipo_agresion':tipo_temp,'Rango':round((int(victima_temp)/maxima_victima)*10),\n",
        "               'Probabilidad': str(round(probabilidad,3))+'%','Link': 'https://colab.research.google.com/drive/1FL32nTDi76p_aRULSAkQrgwfN-IMpqdE#scrollTo='+links[cont]}\n",
        "\n",
        "  lista_temp.append(dict_temp)\n",
        "  data[i] = lista_temp\n",
        "  cont += 1\n",
        "with open('data.json', 'w') as file:\n",
        "    json.dump(data, file, indent=4)\n",
        "\n",
        "df_final.head()\n",
        "df_final.to_csv('BaseDatosGrupoCanela.csv')"
      ],
      "metadata": {
        "id": "jXPPJxrF7V_A"
      },
      "execution_count": null,
      "outputs": []
    },
    {
      "cell_type": "code",
      "source": [
        "maxi = 0\n",
        "for i in max_vict: \n",
        "  maxi = max(int(i),maxi)\n",
        "for i in max_vict:\n",
        "  print(round((int(i)/maxi)*10))\n",
        "print(maxi)\n",
        "print(max_vict)"
      ],
      "metadata": {
        "id": "V0zpRSyKcHDc"
      },
      "execution_count": null,
      "outputs": []
    },
    {
      "cell_type": "code",
      "source": [
        "df_final.info()\n",
        "violencia.info()"
      ],
      "metadata": {
        "id": "WBRWMZAcNSmt"
      },
      "execution_count": null,
      "outputs": []
    }
  ]
}