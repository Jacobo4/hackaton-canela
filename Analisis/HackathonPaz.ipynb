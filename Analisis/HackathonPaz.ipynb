{
  "nbformat": 4,
  "nbformat_minor": 0,
  "metadata": {
    "colab": {
      "provenance": [],
      "collapsed_sections": []
    },
    "kernelspec": {
      "name": "python3",
      "display_name": "Python 3"
    },
    "language_info": {
      "name": "python"
    }
  },
  "cells": [
    {
      "cell_type": "markdown",
      "source": [
        "# Análisis de Datos Hackathon Paz\n",
        "-----\n",
        "\n",
        "A continuación se encuentra un análisis de datos realizado con más de **Treintamil** (30.000) datos recolectados por medio de cuatro diferentes bases de datos de organizaciones sociales, datospublicos.gov, FLIP y el Centro Nacional De Memoria Historica comprendidos entre los años de 1970 al 2022.\n",
        " "
      ],
      "metadata": {
        "id": "ntsF5KwYMu4S"
      }
    },
    {
      "cell_type": "markdown",
      "source": [
        "# New Section"
      ],
      "metadata": {
        "id": "VnA9DvJU4PL5"
      }
    },
    {
      "cell_type": "code",
      "source": [
        "# Libraries\n",
        "\n",
        "# Download information\n",
        "!pip install -U geopandas \n",
        "!gdown https://drive.google.com/uc?id=1d9O8nxduczuc6DC3xOhjTTC54o_52QUc\n",
        "!gdown https://drive.google.com/uc?id=1wMwLcKZ0v18Dwse0Ln1-GTimFHpgSlir\n",
        "!gdown https://drive.google.com/uc?id=1p-7gsX9GvGSu7XptfpY-Uu69x-NNJcQd\n",
        "!unzip colombia.zip\n",
        "\n",
        "import numpy as np\n",
        "import pandas as pd\n",
        "import matplotlib as plt\n",
        "import matplotlib.pyplot as plt\n",
        "import plotly\n",
        "import plotly.express as px\n",
        "import geopandas as gpd\n",
        " \n",
        "df = pd.read_csv('/content/BaseDatosGrupoCanela.csv')"
      ],
      "metadata": {
        "colab": {
          "base_uri": "https://localhost:8080/"
        },
        "id": "nqlPqVGwOwMh",
        "outputId": "12f36d10-20f2-4e99-8691-c37899bb08aa"
      },
      "execution_count": null,
      "outputs": [
        {
          "output_type": "stream",
          "name": "stdout",
          "text": [
            "Looking in indexes: https://pypi.org/simple, https://us-python.pkg.dev/colab-wheels/public/simple/\n",
            "Requirement already satisfied: geopandas in /usr/local/lib/python3.7/dist-packages (0.10.2)\n",
            "Requirement already satisfied: pyproj>=2.2.0 in /usr/local/lib/python3.7/dist-packages (from geopandas) (3.2.1)\n",
            "Requirement already satisfied: fiona>=1.8 in /usr/local/lib/python3.7/dist-packages (from geopandas) (1.8.22)\n",
            "Requirement already satisfied: shapely>=1.6 in /usr/local/lib/python3.7/dist-packages (from geopandas) (1.8.5.post1)\n",
            "Requirement already satisfied: pandas>=0.25.0 in /usr/local/lib/python3.7/dist-packages (from geopandas) (1.3.5)\n",
            "Requirement already satisfied: munch in /usr/local/lib/python3.7/dist-packages (from fiona>=1.8->geopandas) (2.5.0)\n",
            "Requirement already satisfied: click>=4.0 in /usr/local/lib/python3.7/dist-packages (from fiona>=1.8->geopandas) (7.1.2)\n",
            "Requirement already satisfied: certifi in /usr/local/lib/python3.7/dist-packages (from fiona>=1.8->geopandas) (2022.9.24)\n",
            "Requirement already satisfied: six>=1.7 in /usr/local/lib/python3.7/dist-packages (from fiona>=1.8->geopandas) (1.15.0)\n",
            "Requirement already satisfied: setuptools in /usr/local/lib/python3.7/dist-packages (from fiona>=1.8->geopandas) (57.4.0)\n",
            "Requirement already satisfied: click-plugins>=1.0 in /usr/local/lib/python3.7/dist-packages (from fiona>=1.8->geopandas) (1.1.1)\n",
            "Requirement already satisfied: cligj>=0.5 in /usr/local/lib/python3.7/dist-packages (from fiona>=1.8->geopandas) (0.7.2)\n",
            "Requirement already satisfied: attrs>=17 in /usr/local/lib/python3.7/dist-packages (from fiona>=1.8->geopandas) (22.1.0)\n",
            "Requirement already satisfied: python-dateutil>=2.7.3 in /usr/local/lib/python3.7/dist-packages (from pandas>=0.25.0->geopandas) (2.8.2)\n",
            "Requirement already satisfied: pytz>=2017.3 in /usr/local/lib/python3.7/dist-packages (from pandas>=0.25.0->geopandas) (2022.4)\n",
            "Requirement already satisfied: numpy>=1.17.3 in /usr/local/lib/python3.7/dist-packages (from pandas>=0.25.0->geopandas) (1.21.6)\n",
            "Downloading...\n",
            "From: https://drive.google.com/uc?id=1d9O8nxduczuc6DC3xOhjTTC54o_52QUc\n",
            "To: /content/BaseDatosGrupoCanela.csv\n",
            "100% 2.56M/2.56M [00:00<00:00, 195MB/s]\n",
            "Downloading...\n",
            "From: https://drive.google.com/uc?id=1wMwLcKZ0v18Dwse0Ln1-GTimFHpgSlir\n",
            "To: /content/colombia.zip\n",
            "100% 50.2M/50.2M [00:00<00:00, 127MB/s]\n",
            "Downloading...\n",
            "From: https://drive.google.com/uc?id=1p-7gsX9GvGSu7XptfpY-Uu69x-NNJcQd\n",
            "To: /content/Violencia.csv\n",
            "100% 2.59M/2.59M [00:00<00:00, 91.7MB/s]\n",
            "Archive:  colombia.zip\n",
            "replace divipola_dpto_index.hdf? [y]es, [n]o, [A]ll, [N]one, [r]ename: A\n",
            "  inflating: divipola_dpto_index.hdf  \n",
            "  inflating: divipola_mun_index.hdf  \n",
            "  inflating: shapes/Cabecera Municipal.dbf  \n",
            "  inflating: shapes/Cabecera Municipal.prj  \n",
            "  inflating: shapes/Cabecera Municipal.sbn  \n",
            "  inflating: shapes/Cabecera Municipal.sbx  \n",
            "  inflating: shapes/Cabecera Municipal.shp  \n",
            "  inflating: shapes/Cabecera Municipal.shp.xml  \n",
            "  inflating: shapes/Cabecera Municipal.shx  \n",
            "  inflating: shapes/desktop.ini      \n",
            "  inflating: shapes/Fuera colombia.dbf  \n",
            "  inflating: shapes/Fuera colombia.prj  \n",
            "  inflating: shapes/Fuera colombia.sbn  \n",
            "  inflating: shapes/Fuera colombia.sbx  \n",
            "  inflating: shapes/Fuera colombia.shp  \n",
            "  inflating: shapes/Fuera colombia.shx  \n",
            "  inflating: shapes/Limite Departamental.dbf  \n",
            "  inflating: shapes/Limite Departamental.prj  \n",
            "  inflating: shapes/Limite Departamental.sbn  \n",
            "  inflating: shapes/Limite Departamental.sbx  \n",
            "  inflating: shapes/Limite Departamental.shp  \n",
            "  inflating: shapes/Limite Departamental.shp.xml  \n",
            "  inflating: shapes/Limite Departamental.shx  \n",
            "  inflating: shapes/Limite Municipal.dbf  \n",
            "  inflating: shapes/Limite Municipal.prj  \n",
            "  inflating: shapes/Limite Municipal.sbn  \n",
            "  inflating: shapes/Limite Municipal.sbx  \n",
            "  inflating: shapes/Limite Municipal.shp  \n",
            "  inflating: shapes/Limite Municipal.shp.xml  \n",
            "  inflating: shapes/Limite Municipal.shx  \n"
          ]
        }
      ]
    },
    {
      "cell_type": "code",
      "source": [
        "violencia = pd.read_csv('/content/Violencia.csv')\n",
        "violencia['Departamento'] = violencia['Departamento'].str.upper().str.title()\n",
        "for i in pd.DataFrame(violencia.groupby(violencia['Departamento']))[0]:\n",
        "  print(i)"
      ],
      "metadata": {
        "id": "X-dt4JKRhcE-",
        "colab": {
          "base_uri": "https://localhost:8080/"
        },
        "outputId": "7d4728b3-355e-4f72-8a6c-ac8c78a1f5b2"
      },
      "execution_count": null,
      "outputs": [
        {
          "output_type": "stream",
          "name": "stdout",
          "text": [
            "Amazonas\n",
            "Antioquia\n",
            "Arauca\n",
            "Archipielago De San Andres, Providencia Y Santa Catalina\n",
            "Atlantico\n",
            "Bogota, D. C.\n",
            "Bolivar\n",
            "Boyaca\n",
            "Caldas\n",
            "Caqueta\n",
            "Casanare\n",
            "Cauca\n",
            "Cesar\n",
            "Choco\n",
            "Cordoba\n",
            "Cundinamarca\n",
            "Exterior\n",
            "Guainia\n",
            "Guaviare\n",
            "Huila\n",
            "La Guajira\n",
            "Magdalena\n",
            "Meta\n",
            "Nariño\n",
            "Norte De Santander\n",
            "Putumayo\n",
            "Quindio\n",
            "Risaralda\n",
            "Santander\n",
            "Sin Informacion\n",
            "Sucre\n",
            "Tolima\n",
            "Valle Del Cauca\n",
            "Vaupes\n",
            "Vichada\n"
          ]
        }
      ]
    },
    {
      "cell_type": "markdown",
      "source": [
        "# Análisis Estadistico nivel Colombia\n",
        "----\n",
        "\n"
      ],
      "metadata": {
        "id": "1-mlKNSRPozk"
      }
    },
    {
      "cell_type": "markdown",
      "source": [
        "## Ccantidad de victimas Departamento\n",
        "----\n",
        "A continuación se muestran una estadistica de la cantidad de victimas que se obtuvieron por departamento entre los años de 1970 a 2022. \n"
      ],
      "metadata": {
        "id": "q0KQWOSlWfYw"
      }
    },
    {
      "cell_type": "code",
      "source": [
        "VictimasDepartamento = df.groupby(\"Departamento\",as_index = False).size().rename(columns = {\"size\":\"Cantidad Victimas\"})\n",
        "px.line(data_frame=VictimasDepartamento, x=\"Departamento\", y=\"Cantidad Victimas\")"
      ],
      "metadata": {
        "colab": {
          "base_uri": "https://localhost:8080/",
          "height": 542
        },
        "id": "_CkvbBMHPxbH",
        "outputId": "79a1ae7d-dbc4-43dc-db27-8d090f5041ef"
      },
      "execution_count": null,
      "outputs": [
        {
          "output_type": "display_data",
          "data": {
            "text/html": [
              "<html>\n",
              "<head><meta charset=\"utf-8\" /></head>\n",
              "<body>\n",
              "    <div>            <script src=\"https://cdnjs.cloudflare.com/ajax/libs/mathjax/2.7.5/MathJax.js?config=TeX-AMS-MML_SVG\"></script><script type=\"text/javascript\">if (window.MathJax) {MathJax.Hub.Config({SVG: {font: \"STIX-Web\"}});}</script>                <script type=\"text/javascript\">window.PlotlyConfig = {MathJaxConfig: 'local'};</script>\n",
              "        <script src=\"https://cdn.plot.ly/plotly-2.8.3.min.js\"></script>                <div id=\"5fcf71e5-6aec-4945-b9d0-645cc342c822\" class=\"plotly-graph-div\" style=\"height:525px; width:100%;\"></div>            <script type=\"text/javascript\">                                    window.PLOTLYENV=window.PLOTLYENV || {};                                    if (document.getElementById(\"5fcf71e5-6aec-4945-b9d0-645cc342c822\")) {                    Plotly.newPlot(                        \"5fcf71e5-6aec-4945-b9d0-645cc342c822\",                        [{\"hovertemplate\":\"Departamento=%{x}<br>Cantidad Victimas=%{y}<extra></extra>\",\"legendgroup\":\"\",\"line\":{\"color\":\"#636efa\",\"dash\":\"solid\"},\"marker\":{\"symbol\":\"circle\"},\"mode\":\"lines\",\"name\":\"\",\"orientation\":\"v\",\"showlegend\":false,\"x\":[\"Amazonas\",\"Antioquia\",\"Arauca\",\"Atlantico\",\"Bogota\",\"Bolivar\",\"Boyaca\",\"Caldas\",\"Caqueta\",\"Casanare\",\"Cauca\",\"Cesar\",\"Choco\",\"Cordoba\",\"Cundinamarca\",\"Guainia\",\"Guaviare\",\"Huila\",\"La Guajira\",\"Magdalena\",\"Meta\",\"Nari\\u00f1o\",\"Norte De Santander\",\"Putumayo\",\"Quindio\",\"Risaralda\",\"San Andres\",\"Santander\",\"Sucre\",\"Tolima\",\"Valle Del Cauca\",\"Vaupes\",\"Vichada\"],\"xaxis\":\"x\",\"y\":[20,6404,656,295,279,1825,349,636,900,300,1376,1416,873,905,503,11,260,666,561,2463,1152,1370,1974,982,105,435,5,1931,708,1034,1492,26,72],\"yaxis\":\"y\",\"type\":\"scatter\"}],                        {\"template\":{\"data\":{\"bar\":[{\"error_x\":{\"color\":\"#2a3f5f\"},\"error_y\":{\"color\":\"#2a3f5f\"},\"marker\":{\"line\":{\"color\":\"#E5ECF6\",\"width\":0.5},\"pattern\":{\"fillmode\":\"overlay\",\"size\":10,\"solidity\":0.2}},\"type\":\"bar\"}],\"barpolar\":[{\"marker\":{\"line\":{\"color\":\"#E5ECF6\",\"width\":0.5},\"pattern\":{\"fillmode\":\"overlay\",\"size\":10,\"solidity\":0.2}},\"type\":\"barpolar\"}],\"carpet\":[{\"aaxis\":{\"endlinecolor\":\"#2a3f5f\",\"gridcolor\":\"white\",\"linecolor\":\"white\",\"minorgridcolor\":\"white\",\"startlinecolor\":\"#2a3f5f\"},\"baxis\":{\"endlinecolor\":\"#2a3f5f\",\"gridcolor\":\"white\",\"linecolor\":\"white\",\"minorgridcolor\":\"white\",\"startlinecolor\":\"#2a3f5f\"},\"type\":\"carpet\"}],\"choropleth\":[{\"colorbar\":{\"outlinewidth\":0,\"ticks\":\"\"},\"type\":\"choropleth\"}],\"contour\":[{\"colorbar\":{\"outlinewidth\":0,\"ticks\":\"\"},\"colorscale\":[[0.0,\"#0d0887\"],[0.1111111111111111,\"#46039f\"],[0.2222222222222222,\"#7201a8\"],[0.3333333333333333,\"#9c179e\"],[0.4444444444444444,\"#bd3786\"],[0.5555555555555556,\"#d8576b\"],[0.6666666666666666,\"#ed7953\"],[0.7777777777777778,\"#fb9f3a\"],[0.8888888888888888,\"#fdca26\"],[1.0,\"#f0f921\"]],\"type\":\"contour\"}],\"contourcarpet\":[{\"colorbar\":{\"outlinewidth\":0,\"ticks\":\"\"},\"type\":\"contourcarpet\"}],\"heatmap\":[{\"colorbar\":{\"outlinewidth\":0,\"ticks\":\"\"},\"colorscale\":[[0.0,\"#0d0887\"],[0.1111111111111111,\"#46039f\"],[0.2222222222222222,\"#7201a8\"],[0.3333333333333333,\"#9c179e\"],[0.4444444444444444,\"#bd3786\"],[0.5555555555555556,\"#d8576b\"],[0.6666666666666666,\"#ed7953\"],[0.7777777777777778,\"#fb9f3a\"],[0.8888888888888888,\"#fdca26\"],[1.0,\"#f0f921\"]],\"type\":\"heatmap\"}],\"heatmapgl\":[{\"colorbar\":{\"outlinewidth\":0,\"ticks\":\"\"},\"colorscale\":[[0.0,\"#0d0887\"],[0.1111111111111111,\"#46039f\"],[0.2222222222222222,\"#7201a8\"],[0.3333333333333333,\"#9c179e\"],[0.4444444444444444,\"#bd3786\"],[0.5555555555555556,\"#d8576b\"],[0.6666666666666666,\"#ed7953\"],[0.7777777777777778,\"#fb9f3a\"],[0.8888888888888888,\"#fdca26\"],[1.0,\"#f0f921\"]],\"type\":\"heatmapgl\"}],\"histogram\":[{\"marker\":{\"pattern\":{\"fillmode\":\"overlay\",\"size\":10,\"solidity\":0.2}},\"type\":\"histogram\"}],\"histogram2d\":[{\"colorbar\":{\"outlinewidth\":0,\"ticks\":\"\"},\"colorscale\":[[0.0,\"#0d0887\"],[0.1111111111111111,\"#46039f\"],[0.2222222222222222,\"#7201a8\"],[0.3333333333333333,\"#9c179e\"],[0.4444444444444444,\"#bd3786\"],[0.5555555555555556,\"#d8576b\"],[0.6666666666666666,\"#ed7953\"],[0.7777777777777778,\"#fb9f3a\"],[0.8888888888888888,\"#fdca26\"],[1.0,\"#f0f921\"]],\"type\":\"histogram2d\"}],\"histogram2dcontour\":[{\"colorbar\":{\"outlinewidth\":0,\"ticks\":\"\"},\"colorscale\":[[0.0,\"#0d0887\"],[0.1111111111111111,\"#46039f\"],[0.2222222222222222,\"#7201a8\"],[0.3333333333333333,\"#9c179e\"],[0.4444444444444444,\"#bd3786\"],[0.5555555555555556,\"#d8576b\"],[0.6666666666666666,\"#ed7953\"],[0.7777777777777778,\"#fb9f3a\"],[0.8888888888888888,\"#fdca26\"],[1.0,\"#f0f921\"]],\"type\":\"histogram2dcontour\"}],\"mesh3d\":[{\"colorbar\":{\"outlinewidth\":0,\"ticks\":\"\"},\"type\":\"mesh3d\"}],\"parcoords\":[{\"line\":{\"colorbar\":{\"outlinewidth\":0,\"ticks\":\"\"}},\"type\":\"parcoords\"}],\"pie\":[{\"automargin\":true,\"type\":\"pie\"}],\"scatter\":[{\"marker\":{\"colorbar\":{\"outlinewidth\":0,\"ticks\":\"\"}},\"type\":\"scatter\"}],\"scatter3d\":[{\"line\":{\"colorbar\":{\"outlinewidth\":0,\"ticks\":\"\"}},\"marker\":{\"colorbar\":{\"outlinewidth\":0,\"ticks\":\"\"}},\"type\":\"scatter3d\"}],\"scattercarpet\":[{\"marker\":{\"colorbar\":{\"outlinewidth\":0,\"ticks\":\"\"}},\"type\":\"scattercarpet\"}],\"scattergeo\":[{\"marker\":{\"colorbar\":{\"outlinewidth\":0,\"ticks\":\"\"}},\"type\":\"scattergeo\"}],\"scattergl\":[{\"marker\":{\"colorbar\":{\"outlinewidth\":0,\"ticks\":\"\"}},\"type\":\"scattergl\"}],\"scattermapbox\":[{\"marker\":{\"colorbar\":{\"outlinewidth\":0,\"ticks\":\"\"}},\"type\":\"scattermapbox\"}],\"scatterpolar\":[{\"marker\":{\"colorbar\":{\"outlinewidth\":0,\"ticks\":\"\"}},\"type\":\"scatterpolar\"}],\"scatterpolargl\":[{\"marker\":{\"colorbar\":{\"outlinewidth\":0,\"ticks\":\"\"}},\"type\":\"scatterpolargl\"}],\"scatterternary\":[{\"marker\":{\"colorbar\":{\"outlinewidth\":0,\"ticks\":\"\"}},\"type\":\"scatterternary\"}],\"surface\":[{\"colorbar\":{\"outlinewidth\":0,\"ticks\":\"\"},\"colorscale\":[[0.0,\"#0d0887\"],[0.1111111111111111,\"#46039f\"],[0.2222222222222222,\"#7201a8\"],[0.3333333333333333,\"#9c179e\"],[0.4444444444444444,\"#bd3786\"],[0.5555555555555556,\"#d8576b\"],[0.6666666666666666,\"#ed7953\"],[0.7777777777777778,\"#fb9f3a\"],[0.8888888888888888,\"#fdca26\"],[1.0,\"#f0f921\"]],\"type\":\"surface\"}],\"table\":[{\"cells\":{\"fill\":{\"color\":\"#EBF0F8\"},\"line\":{\"color\":\"white\"}},\"header\":{\"fill\":{\"color\":\"#C8D4E3\"},\"line\":{\"color\":\"white\"}},\"type\":\"table\"}]},\"layout\":{\"annotationdefaults\":{\"arrowcolor\":\"#2a3f5f\",\"arrowhead\":0,\"arrowwidth\":1},\"autotypenumbers\":\"strict\",\"coloraxis\":{\"colorbar\":{\"outlinewidth\":0,\"ticks\":\"\"}},\"colorscale\":{\"diverging\":[[0,\"#8e0152\"],[0.1,\"#c51b7d\"],[0.2,\"#de77ae\"],[0.3,\"#f1b6da\"],[0.4,\"#fde0ef\"],[0.5,\"#f7f7f7\"],[0.6,\"#e6f5d0\"],[0.7,\"#b8e186\"],[0.8,\"#7fbc41\"],[0.9,\"#4d9221\"],[1,\"#276419\"]],\"sequential\":[[0.0,\"#0d0887\"],[0.1111111111111111,\"#46039f\"],[0.2222222222222222,\"#7201a8\"],[0.3333333333333333,\"#9c179e\"],[0.4444444444444444,\"#bd3786\"],[0.5555555555555556,\"#d8576b\"],[0.6666666666666666,\"#ed7953\"],[0.7777777777777778,\"#fb9f3a\"],[0.8888888888888888,\"#fdca26\"],[1.0,\"#f0f921\"]],\"sequentialminus\":[[0.0,\"#0d0887\"],[0.1111111111111111,\"#46039f\"],[0.2222222222222222,\"#7201a8\"],[0.3333333333333333,\"#9c179e\"],[0.4444444444444444,\"#bd3786\"],[0.5555555555555556,\"#d8576b\"],[0.6666666666666666,\"#ed7953\"],[0.7777777777777778,\"#fb9f3a\"],[0.8888888888888888,\"#fdca26\"],[1.0,\"#f0f921\"]]},\"colorway\":[\"#636efa\",\"#EF553B\",\"#00cc96\",\"#ab63fa\",\"#FFA15A\",\"#19d3f3\",\"#FF6692\",\"#B6E880\",\"#FF97FF\",\"#FECB52\"],\"font\":{\"color\":\"#2a3f5f\"},\"geo\":{\"bgcolor\":\"white\",\"lakecolor\":\"white\",\"landcolor\":\"#E5ECF6\",\"showlakes\":true,\"showland\":true,\"subunitcolor\":\"white\"},\"hoverlabel\":{\"align\":\"left\"},\"hovermode\":\"closest\",\"mapbox\":{\"style\":\"light\"},\"paper_bgcolor\":\"white\",\"plot_bgcolor\":\"#E5ECF6\",\"polar\":{\"angularaxis\":{\"gridcolor\":\"white\",\"linecolor\":\"white\",\"ticks\":\"\"},\"bgcolor\":\"#E5ECF6\",\"radialaxis\":{\"gridcolor\":\"white\",\"linecolor\":\"white\",\"ticks\":\"\"}},\"scene\":{\"xaxis\":{\"backgroundcolor\":\"#E5ECF6\",\"gridcolor\":\"white\",\"gridwidth\":2,\"linecolor\":\"white\",\"showbackground\":true,\"ticks\":\"\",\"zerolinecolor\":\"white\"},\"yaxis\":{\"backgroundcolor\":\"#E5ECF6\",\"gridcolor\":\"white\",\"gridwidth\":2,\"linecolor\":\"white\",\"showbackground\":true,\"ticks\":\"\",\"zerolinecolor\":\"white\"},\"zaxis\":{\"backgroundcolor\":\"#E5ECF6\",\"gridcolor\":\"white\",\"gridwidth\":2,\"linecolor\":\"white\",\"showbackground\":true,\"ticks\":\"\",\"zerolinecolor\":\"white\"}},\"shapedefaults\":{\"line\":{\"color\":\"#2a3f5f\"}},\"ternary\":{\"aaxis\":{\"gridcolor\":\"white\",\"linecolor\":\"white\",\"ticks\":\"\"},\"baxis\":{\"gridcolor\":\"white\",\"linecolor\":\"white\",\"ticks\":\"\"},\"bgcolor\":\"#E5ECF6\",\"caxis\":{\"gridcolor\":\"white\",\"linecolor\":\"white\",\"ticks\":\"\"}},\"title\":{\"x\":0.05},\"xaxis\":{\"automargin\":true,\"gridcolor\":\"white\",\"linecolor\":\"white\",\"ticks\":\"\",\"title\":{\"standoff\":15},\"zerolinecolor\":\"white\",\"zerolinewidth\":2},\"yaxis\":{\"automargin\":true,\"gridcolor\":\"white\",\"linecolor\":\"white\",\"ticks\":\"\",\"title\":{\"standoff\":15},\"zerolinecolor\":\"white\",\"zerolinewidth\":2}}},\"xaxis\":{\"anchor\":\"y\",\"domain\":[0.0,1.0],\"title\":{\"text\":\"Departamento\"}},\"yaxis\":{\"anchor\":\"x\",\"domain\":[0.0,1.0],\"title\":{\"text\":\"Cantidad Victimas\"}},\"legend\":{\"tracegroupgap\":0},\"margin\":{\"t\":60}},                        {\"responsive\": true}                    ).then(function(){\n",
              "                            \n",
              "var gd = document.getElementById('5fcf71e5-6aec-4945-b9d0-645cc342c822');\n",
              "var x = new MutationObserver(function (mutations, observer) {{\n",
              "        var display = window.getComputedStyle(gd).display;\n",
              "        if (!display || display === 'none') {{\n",
              "            console.log([gd, 'removed!']);\n",
              "            Plotly.purge(gd);\n",
              "            observer.disconnect();\n",
              "        }}\n",
              "}});\n",
              "\n",
              "// Listen for the removal of the full notebook cells\n",
              "var notebookContainer = gd.closest('#notebook-container');\n",
              "if (notebookContainer) {{\n",
              "    x.observe(notebookContainer, {childList: true});\n",
              "}}\n",
              "\n",
              "// Listen for the clearing of the current output cell\n",
              "var outputEl = gd.closest('.output');\n",
              "if (outputEl) {{\n",
              "    x.observe(outputEl, {childList: true});\n",
              "}}\n",
              "\n",
              "                        })                };                            </script>        </div>\n",
              "</body>\n",
              "</html>"
            ]
          },
          "metadata": {}
        }
      ]
    },
    {
      "cell_type": "markdown",
      "source": [
        "## Mapa de Calor zonas de riesgo\n",
        "----\n",
        "\n",
        "A continuación se muestra un mapa de calor con las zonas de riesgo según el número de victimas registradas entre los periodos de 1970 a 2022.\n"
      ],
      "metadata": {
        "id": "6BBuKDT0U4E9"
      }
    },
    {
      "cell_type": "code",
      "source": [
        "col_deps = gpd.read_file(r\"shapes/Limite Departamental.shp\")  # Departamentos\n",
        "col_deps[[\"COD_DEPART\"]] = col_deps[[\"COD_DEPART\"]].astype(int)\n",
        "col_deps[\"Nombre\"] = col_deps[\"Nombre\"].str.upper().str.title()\n",
        "\n",
        "groupedbyDepartment = df.groupby(['Departamento'],as_index = False).size()\n",
        "\n",
        "departmentGeometry = pd.merge(groupedbyDepartment, col_deps,left_on=\"Departamento\",right_on=\"Nombre\")\n",
        "departmentGeometry.head()\n",
        "\n",
        "geopandasMap = gpd.GeoDataFrame(departmentGeometry)\n",
        "\n",
        "geopandasMap.plot(column = \"size\",cmap='YlOrRd',legend = True,figsize = (15,15))"
      ],
      "metadata": {
        "id": "43Aci0RISw_T",
        "colab": {
          "base_uri": "https://localhost:8080/",
          "height": 881
        },
        "outputId": "bee9711a-d0b7-4289-bcff-e5b7a25e4536"
      },
      "execution_count": null,
      "outputs": [
        {
          "output_type": "execute_result",
          "data": {
            "text/plain": [
              "<matplotlib.axes._subplots.AxesSubplot at 0x7fbb5fbc3d50>"
            ]
          },
          "metadata": {},
          "execution_count": 15
        },
        {
          "output_type": "display_data",
          "data": {
            "text/plain": [
              "<Figure size 1080x1080 with 2 Axes>"
            ],
            "image/png": "[encoded data removed]"
          },
          "metadata": {
            "needs_background": "light"
          }
        }
      ]
    },
    {
      "cell_type": "markdown",
      "source": [
        "# Departamento Amazonas"
      ],
      "metadata": {
        "id": "6kxs1V_XTL-f"
      }
    },
    {
      "cell_type": "code",
      "source": [
        "df_temp = violencia[violencia['Departamento'] == 'Amazonas']\n",
        "print(' El año promedio donde se registraron victimas fue {} \\n El mes del año promedio en donde se registraron victimas fue {}\\n El dia promedio donde se registraron más victimas fue {}\\n Este departamento tiene mayor probabilidad de sufrir {}\\n El total de victimas fue {}'.format(int(df_temp.Año.mean()),int(df_temp.Mes.mean()),int(df_temp.Día.mean()),0,df_temp['Total de Víctimas del Caso'].count()))\n"
      ],
      "metadata": {
        "colab": {
          "base_uri": "https://localhost:8080/"
        },
        "id": "GuiQw5Z3oMwt",
        "outputId": "1b4fe9d4-ddff-4032-d57e-4d81be09dcf3"
      },
      "execution_count": null,
      "outputs": [
        {
          "output_type": "stream",
          "name": "stdout",
          "text": [
            " El año promedio donde se registraron victimas fue 2006 \n",
            " El mes del año promedio en donde se registraron victimas fue 7\n",
            " El dia promedio donde se registraron más victimas fue 17\n",
            " Este departamento tiene mayor probabilidad de sufrir 0\n",
            " El total de victimas fue 10\n"
          ]
        }
      ]
    },
    {
      "cell_type": "markdown",
      "source": [
        "# Departamento Antioquia"
      ],
      "metadata": {
        "id": "Gj-Wre1mUzow"
      }
    },
    {
      "cell_type": "code",
      "source": [
        "df_temp = violencia[violencia['Departamento'] == 'Antioquia']\n",
        "print(' El año promedio donde se registraron victimas fue {} \\n El mes del año promedio en donde se registraron victimas fue {}\\n El dia promedio donde se registraron más victimas fue {}\\n Este departamento tiene mayor probabilidad de sufrir {}\\n El total de victimas fue {}'.format(int(df_temp.Año.mean()),int(df_temp.Mes.mean()),int(df_temp.Día.mean()),0,df_temp['Total de Víctimas del Caso'].count()))\n"
      ],
      "metadata": {
        "colab": {
          "base_uri": "https://localhost:8080/"
        },
        "id": "nkwu5qIboOlA",
        "outputId": "b5713075-0a49-4cdd-94e9-03f2a78ca071"
      },
      "execution_count": null,
      "outputs": [
        {
          "output_type": "stream",
          "name": "stdout",
          "text": [
            " El año promedio donde se registraron victimas fue 1926 \n",
            " El mes del año promedio en donde se registraron victimas fue 5\n",
            " El dia promedio donde se registraron más victimas fue 12\n",
            " Este departamento tiene mayor probabilidad de sufrir 0\n",
            " El total de victimas fue 2957\n"
          ]
        }
      ]
    },
    {
      "cell_type": "markdown",
      "source": [
        "# Departamento Arauca"
      ],
      "metadata": {
        "id": "647PGv2LVxL0"
      }
    },
    {
      "cell_type": "code",
      "source": [
        "df_temp = violencia[violencia['Departamento'] == 'Arauca']\n",
        "print(' El año promedio donde se registraron victimas fue {} \\n El mes del año promedio en donde se registraron victimas fue {}\\n El dia promedio donde se registraron más victimas fue {}\\n Este departamento tiene mayor probabilidad de sufrir {}\\n El total de victimas fue {}'.format(int(df_temp.Año.mean()),int(df_temp.Mes.mean()),int(df_temp.Día.mean()),0,df_temp['Total de Víctimas del Caso'].count()))\n"
      ],
      "metadata": {
        "colab": {
          "base_uri": "https://localhost:8080/"
        },
        "id": "D_Ydetewjho5",
        "outputId": "bf7e87e9-c8b5-4b61-9160-8839de85461e"
      },
      "execution_count": null,
      "outputs": [
        {
          "output_type": "stream",
          "name": "stdout",
          "text": [
            " El año promedio donde se registraron victimas fue 1916 \n",
            " El mes del año promedio en donde se registraron victimas fue 5\n",
            " El dia promedio donde se registraron más victimas fue 10\n",
            " Este departamento tiene mayor probabilidad de sufrir 0\n",
            " El total de victimas fue 161\n"
          ]
        }
      ]
    },
    {
      "cell_type": "markdown",
      "source": [
        "# Departamento Atlántico"
      ],
      "metadata": {
        "id": "jDpU1kHTVxL3"
      }
    },
    {
      "cell_type": "code",
      "source": [
        "df_temp = violencia[violencia['Departamento'] == 'Atlantico']\n",
        "print(' El año promedio donde se registraron victimas fue {} \\n El mes del año promedio en donde se registraron victimas fue {}\\n El dia promedio donde se registraron más victimas fue {}\\n Este departamento tiene mayor probabilidad de sufrir {}\\n El total de victimas fue {}'.format(int(df_temp.Año.mean()),int(df_temp.Mes.mean()),int(df_temp.Día.mean()),0,df_temp['Total de Víctimas del Caso'].count()))\n"
      ],
      "metadata": {
        "colab": {
          "base_uri": "https://localhost:8080/"
        },
        "id": "gCfsXjPeoSbU",
        "outputId": "c18a73a1-0615-4549-be8a-251f05373a21"
      },
      "execution_count": null,
      "outputs": [
        {
          "output_type": "stream",
          "name": "stdout",
          "text": [
            " El año promedio donde se registraron victimas fue 1815 \n",
            " El mes del año promedio en donde se registraron victimas fue 5\n",
            " El dia promedio donde se registraron más victimas fue 12\n",
            " Este departamento tiene mayor probabilidad de sufrir 0\n",
            " El total de victimas fue 53\n"
          ]
        }
      ]
    },
    {
      "cell_type": "markdown",
      "source": [
        "# Departamento Bogotá"
      ],
      "metadata": {
        "id": "MElpBJD9VxL5"
      }
    },
    {
      "cell_type": "code",
      "source": [
        "df_temp = violencia[violencia['Departamento'] == 'Bogota, D. C.']\n",
        "print(' El año promedio donde se registraron victimas fue {} \\n El mes del año promedio en donde se registraron victimas fue {}\\n El dia promedio donde se registraron más victimas fue {}\\n Este departamento tiene mayor probabilidad de sufrir {}\\n El total de victimas fue {}'.format(int(df_temp.Año.mean()),int(df_temp.Mes.mean()),int(df_temp.Día.mean()),0,df_temp['Total de Víctimas del Caso'].count()))\n"
      ],
      "metadata": {
        "colab": {
          "base_uri": "https://localhost:8080/"
        },
        "id": "p_nvlROKoUc2",
        "outputId": "bc0376d3-9be9-4a9c-b794-fe4fbcf365b4"
      },
      "execution_count": null,
      "outputs": [
        {
          "output_type": "stream",
          "name": "stdout",
          "text": [
            " El año promedio donde se registraron victimas fue 1663 \n",
            " El mes del año promedio en donde se registraron victimas fue 5\n",
            " El dia promedio donde se registraron más victimas fue 11\n",
            " Este departamento tiene mayor probabilidad de sufrir 0\n",
            " El total de victimas fue 94\n"
          ]
        }
      ]
    },
    {
      "cell_type": "markdown",
      "source": [
        "# Departamento Bolívar"
      ],
      "metadata": {
        "id": "G0PW5lnoVxL6"
      }
    },
    {
      "cell_type": "code",
      "source": [
        "df_temp = violencia[violencia['Departamento'] == 'Bolivar']\n",
        "print(' El año promedio donde se registraron victimas fue {} \\n El mes del año promedio en donde se registraron victimas fue {}\\n El dia promedio donde se registraron más victimas fue {}\\n Este departamento tiene mayor probabilidad de sufrir {}\\n El total de victimas fue {}'.format(int(df_temp.Año.mean()),int(df_temp.Mes.mean()),int(df_temp.Día.mean()),0,df_temp['Total de Víctimas del Caso'].count()))\n"
      ],
      "metadata": {
        "colab": {
          "base_uri": "https://localhost:8080/"
        },
        "id": "eKBJUbX5pAoN",
        "outputId": "5687a08d-46f9-4cc0-dfd4-210a226ba12b"
      },
      "execution_count": null,
      "outputs": [
        {
          "output_type": "stream",
          "name": "stdout",
          "text": [
            " El año promedio donde se registraron victimas fue 1972 \n",
            " El mes del año promedio en donde se registraron victimas fue 5\n",
            " El dia promedio donde se registraron más victimas fue 13\n",
            " Este departamento tiene mayor probabilidad de sufrir 0\n",
            " El total de victimas fue 943\n"
          ]
        }
      ]
    },
    {
      "cell_type": "markdown",
      "source": [
        "# Departamento Boyacá"
      ],
      "metadata": {
        "id": "WelHHAKMVxL8"
      }
    },
    {
      "cell_type": "code",
      "source": [
        "df_temp = violencia[violencia['Departamento'] == 'Boyaca']\n",
        "print(' El año promedio donde se registraron victimas fue {} \\n El mes del año promedio en donde se registraron victimas fue {}\\n El dia promedio donde se registraron más victimas fue {}\\n Este departamento tiene mayor probabilidad de sufrir {}\\n El total de victimas fue {}'.format(int(df_temp.Año.mean()),int(df_temp.Mes.mean()),int(df_temp.Día.mean()),0,df_temp['Total de Víctimas del Caso'].count()))\n"
      ],
      "metadata": {
        "colab": {
          "base_uri": "https://localhost:8080/"
        },
        "id": "jyEkEZ5-pD7f",
        "outputId": "e21e6b94-0fee-4419-ca36-d5404f9895a8"
      },
      "execution_count": null,
      "outputs": [
        {
          "output_type": "stream",
          "name": "stdout",
          "text": [
            " El año promedio donde se registraron victimas fue 1961 \n",
            " El mes del año promedio en donde se registraron victimas fue 5\n",
            " El dia promedio donde se registraron más victimas fue 11\n",
            " Este departamento tiene mayor probabilidad de sufrir 0\n",
            " El total de victimas fue 105\n"
          ]
        }
      ]
    },
    {
      "cell_type": "markdown",
      "source": [
        "# Departamento Caldas"
      ],
      "metadata": {
        "id": "hRh1RHVOVxL9"
      }
    },
    {
      "cell_type": "code",
      "source": [
        "df_temp = violencia[violencia['Departamento'] == 'Caldas']\n",
        "print(' El año promedio donde se registraron victimas fue {} \\n El mes del año promedio en donde se registraron victimas fue {}\\n El dia promedio donde se registraron más victimas fue {}\\n Este departamento tiene mayor probabilidad de sufrir {}\\n El total de victimas fue {}'.format(int(df_temp.Año.mean()),int(df_temp.Mes.mean()),int(df_temp.Día.mean()),0,df_temp['Total de Víctimas del Caso'].count()))\n"
      ],
      "metadata": {
        "colab": {
          "base_uri": "https://localhost:8080/"
        },
        "id": "Hx7ksIIOpGzD",
        "outputId": "a8245662-2947-4049-be7e-061c62c31e7f"
      },
      "execution_count": null,
      "outputs": [
        {
          "output_type": "stream",
          "name": "stdout",
          "text": [
            " El año promedio donde se registraron victimas fue 1958 \n",
            " El mes del año promedio en donde se registraron victimas fue 6\n",
            " El dia promedio donde se registraron más victimas fue 10\n",
            " Este departamento tiene mayor probabilidad de sufrir 0\n",
            " El total de victimas fue 179\n"
          ]
        }
      ]
    },
    {
      "cell_type": "markdown",
      "source": [
        "# Departamento Caquetá"
      ],
      "metadata": {
        "id": "C--FWhkFVxUA"
      }
    },
    {
      "cell_type": "code",
      "source": [
        "df_temp = violencia[violencia['Departamento'] == 'Caqueta']\n",
        "print(' El año promedio donde se registraron victimas fue {} \\n El mes del año promedio en donde se registraron victimas fue {}\\n El dia promedio donde se registraron más victimas fue {}\\n Este departamento tiene mayor probabilidad de sufrir {}\\n El total de victimas fue {}'.format(int(df_temp.Año.mean()),int(df_temp.Mes.mean()),int(df_temp.Día.mean()),0,df_temp['Total de Víctimas del Caso'].count()))\n"
      ],
      "metadata": {
        "colab": {
          "base_uri": "https://localhost:8080/"
        },
        "id": "8jktHhz0pRjw",
        "outputId": "98082b38-6820-4e11-8a2f-e595245af69b"
      },
      "execution_count": null,
      "outputs": [
        {
          "output_type": "stream",
          "name": "stdout",
          "text": [
            " El año promedio donde se registraron victimas fue 1927 \n",
            " El mes del año promedio en donde se registraron victimas fue 6\n",
            " El dia promedio donde se registraron más victimas fue 13\n",
            " Este departamento tiene mayor probabilidad de sufrir 0\n",
            " El total de victimas fue 663\n"
          ]
        }
      ]
    },
    {
      "cell_type": "markdown",
      "source": [
        "# Departamento Casanare"
      ],
      "metadata": {
        "id": "Nw4k6xRuVxUD"
      }
    },
    {
      "cell_type": "code",
      "source": [
        "df_temp = violencia[violencia['Departamento'] == 'Casanare']\n",
        "print(' El año promedio donde se registraron victimas fue {} \\n El mes del año promedio en donde se registraron victimas fue {}\\n El dia promedio donde se registraron más victimas fue {}\\n Este departamento tiene mayor probabilidad de sufrir {}\\n El total de victimas fue {}'.format(int(df_temp.Año.mean()),int(df_temp.Mes.mean()),int(df_temp.Día.mean()),0,df_temp['Total de Víctimas del Caso'].count()))\n"
      ],
      "metadata": {
        "colab": {
          "base_uri": "https://localhost:8080/"
        },
        "id": "IEELOLropT1t",
        "outputId": "072f0900-12fe-4849-b835-5312e2a5790a"
      },
      "execution_count": null,
      "outputs": [
        {
          "output_type": "stream",
          "name": "stdout",
          "text": [
            " El año promedio donde se registraron victimas fue 1942 \n",
            " El mes del año promedio en donde se registraron victimas fue 5\n",
            " El dia promedio donde se registraron más victimas fue 10\n",
            " Este departamento tiene mayor probabilidad de sufrir 0\n",
            " El total de victimas fue 171\n"
          ]
        }
      ]
    },
    {
      "cell_type": "markdown",
      "source": [
        "# Departamento Cauca"
      ],
      "metadata": {
        "id": "DCoa0FgBVxUE"
      }
    },
    {
      "cell_type": "code",
      "source": [
        "df_temp = violencia[violencia['Departamento'] == 'Cauca']\n",
        "print(' El año promedio donde se registraron victimas fue {} \\n El mes del año promedio en donde se registraron victimas fue {}\\n El dia promedio donde se registraron más victimas fue {}\\n Este departamento tiene mayor probabilidad de sufrir {}\\n El total de victimas fue {}'.format(int(df_temp.Año.mean()),int(df_temp.Mes.mean()),int(df_temp.Día.mean()),0,df_temp['Total de Víctimas del Caso'].count()))\n"
      ],
      "metadata": {
        "colab": {
          "base_uri": "https://localhost:8080/"
        },
        "id": "cYTBJctopfKd",
        "outputId": "ab81c09e-8577-40cb-91b5-688ab12c0dc7"
      },
      "execution_count": null,
      "outputs": [
        {
          "output_type": "stream",
          "name": "stdout",
          "text": [
            " El año promedio donde se registraron victimas fue 1954 \n",
            " El mes del año promedio en donde se registraron victimas fue 6\n",
            " El dia promedio donde se registraron más victimas fue 10\n",
            " Este departamento tiene mayor probabilidad de sufrir 0\n",
            " El total de victimas fue 713\n"
          ]
        }
      ]
    },
    {
      "cell_type": "markdown",
      "source": [
        "# Departamento Cesar"
      ],
      "metadata": {
        "id": "GQQn2O0KVxUG"
      }
    },
    {
      "cell_type": "code",
      "source": [
        "df_temp = violencia[violencia['Departamento'] == 'Cesar']\n",
        "print(' El año promedio donde se registraron victimas fue {} \\n El mes del año promedio en donde se registraron victimas fue {}\\n El dia promedio donde se registraron más victimas fue {}\\n Este departamento tiene mayor probabilidad de sufrir {}\\n El total de victimas fue {}'.format(int(df_temp.Año.mean()),int(df_temp.Mes.mean()),int(df_temp.Día.mean()),0,df_temp['Total de Víctimas del Caso'].count()))\n"
      ],
      "metadata": {
        "colab": {
          "base_uri": "https://localhost:8080/"
        },
        "id": "u5nZEtUxphYW",
        "outputId": "e7339cae-9501-4e07-9e0b-1e72842692a7"
      },
      "execution_count": null,
      "outputs": [
        {
          "output_type": "stream",
          "name": "stdout",
          "text": [
            " El año promedio donde se registraron victimas fue 1943 \n",
            " El mes del año promedio en donde se registraron victimas fue 5\n",
            " El dia promedio donde se registraron más victimas fue 13\n",
            " Este departamento tiene mayor probabilidad de sufrir 0\n",
            " El total de victimas fue 512\n"
          ]
        }
      ]
    },
    {
      "cell_type": "markdown",
      "source": [
        "# Departamento Chocó"
      ],
      "metadata": {
        "id": "jtpooRbqVxUI"
      }
    },
    {
      "cell_type": "code",
      "source": [
        "df_temp = violencia[violencia['Departamento'] == 'Choco']\n",
        "print(' El año promedio donde se registraron victimas fue {} \\n El mes del año promedio en donde se registraron victimas fue {}\\n El dia promedio donde se registraron más victimas fue {}\\n Este departamento tiene mayor probabilidad de sufrir {}\\n El total de victimas fue {}'.format(int(df_temp.Año.mean()),int(df_temp.Mes.mean()),int(df_temp.Día.mean()),0,df_temp['Total de Víctimas del Caso'].count()))\n"
      ],
      "metadata": {
        "colab": {
          "base_uri": "https://localhost:8080/"
        },
        "id": "7xe0s3VcplRf",
        "outputId": "da71ab78-e021-4704-bc09-21658b272417"
      },
      "execution_count": null,
      "outputs": [
        {
          "output_type": "stream",
          "name": "stdout",
          "text": [
            " El año promedio donde se registraron victimas fue 1980 \n",
            " El mes del año promedio en donde se registraron victimas fue 5\n",
            " El dia promedio donde se registraron más victimas fue 12\n",
            " Este departamento tiene mayor probabilidad de sufrir 0\n",
            " El total de victimas fue 560\n"
          ]
        }
      ]
    },
    {
      "cell_type": "markdown",
      "source": [
        "# Departamento Córdoba"
      ],
      "metadata": {
        "id": "Tl_pNWU1VxUK"
      }
    },
    {
      "cell_type": "code",
      "source": [
        "df_temp = violencia[violencia['Departamento'] == 'Cordoba']\n",
        "print(' El año promedio donde se registraron victimas fue {} \\n El mes del año promedio en donde se registraron victimas fue {}\\n El dia promedio donde se registraron más victimas fue {}\\n Este departamento tiene mayor probabilidad de sufrir {}\\n El total de victimas fue {}'.format(int(df_temp.Año.mean()),int(df_temp.Mes.mean()),int(df_temp.Día.mean()),0,df_temp['Total de Víctimas del Caso'].count()))\n"
      ],
      "metadata": {
        "colab": {
          "base_uri": "https://localhost:8080/"
        },
        "id": "ed3Cke7hpnNE",
        "outputId": "ff572cb4-3619-4628-a1f6-459b01e2ac57"
      },
      "execution_count": null,
      "outputs": [
        {
          "output_type": "stream",
          "name": "stdout",
          "text": [
            " El año promedio donde se registraron victimas fue 1958 \n",
            " El mes del año promedio en donde se registraron victimas fue 6\n",
            " El dia promedio donde se registraron más victimas fue 12\n",
            " Este departamento tiene mayor probabilidad de sufrir 0\n",
            " El total de victimas fue 318\n"
          ]
        }
      ]
    },
    {
      "cell_type": "markdown",
      "source": [
        "# Departamento Cundinamarca"
      ],
      "metadata": {
        "id": "OgNbHA1jVxfX"
      }
    },
    {
      "cell_type": "code",
      "source": [
        "df_temp = violencia[violencia['Departamento'] == 'Cundinamarca']\n",
        "print(' El año promedio donde se registraron victimas fue {} \\n El mes del año promedio en donde se registraron victimas fue {}\\n El dia promedio donde se registraron más victimas fue {}\\n Este departamento tiene mayor probabilidad de sufrir {}\\n El total de victimas fue {}'.format(int(df_temp.Año.mean()),int(df_temp.Mes.mean()),int(df_temp.Día.mean()),0,df_temp['Total de Víctimas del Caso'].count()))\n"
      ],
      "metadata": {
        "colab": {
          "base_uri": "https://localhost:8080/"
        },
        "id": "FdqjMGQipplc",
        "outputId": "cf0e474f-13e5-4e9a-e941-3247aa5daafa"
      },
      "execution_count": null,
      "outputs": [
        {
          "output_type": "stream",
          "name": "stdout",
          "text": [
            " El año promedio donde se registraron victimas fue 1898 \n",
            " El mes del año promedio en donde se registraron victimas fue 5\n",
            " El dia promedio donde se registraron más victimas fue 11\n",
            " Este departamento tiene mayor probabilidad de sufrir 0\n",
            " El total de victimas fue 218\n"
          ]
        }
      ]
    },
    {
      "cell_type": "markdown",
      "source": [
        "# Departamento Guainía "
      ],
      "metadata": {
        "id": "pk2lqE1lVxfZ"
      }
    },
    {
      "cell_type": "code",
      "source": [
        "df_temp = violencia[violencia['Departamento'] == 'Guainia']\n",
        "print(' El año promedio donde se registraron victimas fue {} \\n El mes del año promedio en donde se registraron victimas fue {}\\n El dia promedio donde se registraron más victimas fue {}\\n Este departamento tiene mayor probabilidad de sufrir {}\\n El total de victimas fue {}'.format(int(df_temp.Año.mean()),int(df_temp.Mes.mean()),int(df_temp.Día.mean()),0,df_temp['Total de Víctimas del Caso'].count()))\n"
      ],
      "metadata": {
        "colab": {
          "base_uri": "https://localhost:8080/"
        },
        "id": "iymUPW3bwZPj",
        "outputId": "e78676f9-fe8d-4a48-aa4d-45aba88539ce"
      },
      "execution_count": null,
      "outputs": [
        {
          "output_type": "stream",
          "name": "stdout",
          "text": [
            " El año promedio donde se registraron victimas fue 2001 \n",
            " El mes del año promedio en donde se registraron victimas fue 4\n",
            " El dia promedio donde se registraron más victimas fue 11\n",
            " Este departamento tiene mayor probabilidad de sufrir 0\n",
            " El total de victimas fue 2\n"
          ]
        }
      ]
    },
    {
      "cell_type": "markdown",
      "source": [
        "# Departamento Guaviare"
      ],
      "metadata": {
        "id": "gqc8a4ZiVxfa"
      }
    },
    {
      "cell_type": "code",
      "source": [
        "df_temp = violencia[violencia['Departamento'] == 'Guaviare']\n",
        "print(' El año promedio donde se registraron victimas fue {} \\n El mes del año promedio en donde se registraron victimas fue {}\\n El dia promedio donde se registraron más victimas fue {}\\n Este departamento tiene mayor probabilidad de sufrir {}\\n El total de victimas fue {}'.format(int(df_temp.Año.mean()),int(df_temp.Mes.mean()),int(df_temp.Día.mean()),0,df_temp['Total de Víctimas del Caso'].count()))\n"
      ],
      "metadata": {
        "colab": {
          "base_uri": "https://localhost:8080/"
        },
        "id": "RwF25M7lwbON",
        "outputId": "a19189d0-1ec5-4afe-e09a-fc96376e3806"
      },
      "execution_count": null,
      "outputs": [
        {
          "output_type": "stream",
          "name": "stdout",
          "text": [
            " El año promedio donde se registraron victimas fue 1956 \n",
            " El mes del año promedio en donde se registraron victimas fue 5\n",
            " El dia promedio donde se registraron más victimas fue 11\n",
            " Este departamento tiene mayor probabilidad de sufrir 0\n",
            " El total de victimas fue 128\n"
          ]
        }
      ]
    },
    {
      "cell_type": "markdown",
      "source": [
        "# Departamento Huila"
      ],
      "metadata": {
        "id": "uo6hqDFIVxfc"
      }
    },
    {
      "cell_type": "code",
      "source": [
        "df_temp = violencia[violencia['Departamento'] == 'Huila']\n",
        "print(' El año promedio donde se registraron victimas fue {} \\n El mes del año promedio en donde se registraron victimas fue {}\\n El dia promedio donde se registraron más victimas fue {}\\n Este departamento tiene mayor probabilidad de sufrir {}\\n El total de victimas fue {}'.format(int(df_temp.Año.mean()),int(df_temp.Mes.mean()),int(df_temp.Día.mean()),0,df_temp['Total de Víctimas del Caso'].count()))\n"
      ],
      "metadata": {
        "colab": {
          "base_uri": "https://localhost:8080/"
        },
        "id": "bhhJeRf_wdXm",
        "outputId": "fdf24f4d-4d31-4c79-f497-d5c4dcbd69bd"
      },
      "execution_count": null,
      "outputs": [
        {
          "output_type": "stream",
          "name": "stdout",
          "text": [
            " El año promedio donde se registraron victimas fue 1908 \n",
            " El mes del año promedio en donde se registraron victimas fue 6\n",
            " El dia promedio donde se registraron más victimas fue 12\n",
            " Este departamento tiene mayor probabilidad de sufrir 0\n",
            " El total de victimas fue 185\n"
          ]
        }
      ]
    },
    {
      "cell_type": "markdown",
      "source": [
        "# Departamento La Guajira"
      ],
      "metadata": {
        "id": "P39dehZxVxfd"
      }
    },
    {
      "cell_type": "code",
      "source": [
        "df_temp = violencia[violencia['Departamento'] == 'Guajira']\n",
        "print(' El año promedio donde se registraron victimas fue {} \\n El mes del año promedio en donde se registraron victimas fue {}\\n El dia promedio donde se registraron más victimas fue {}\\n Este departamento tiene mayor probabilidad de sufrir {}\\n El total de victimas fue {}'.format(int(df_temp.Año.mean()),int(df_temp.Mes.mean()),int(df_temp.Día.mean()),0,df_temp['Total de Víctimas del Caso'].count()))\n"
      ],
      "metadata": {
        "id": "ap7fDPucwfeB"
      },
      "execution_count": null,
      "outputs": []
    },
    {
      "cell_type": "markdown",
      "source": [
        "# Departamento Magdalena"
      ],
      "metadata": {
        "id": "jS5DXQGBVxfe"
      }
    },
    {
      "cell_type": "code",
      "source": [
        "df_temp = violencia[violencia['Departamento'] == 'Magdalena']\n",
        "print(' El año promedio donde se registraron victimas fue {} \\n El mes del año promedio en donde se registraron victimas fue {}\\n El dia promedio donde se registraron más victimas fue {}\\n Este departamento tiene mayor probabilidad de sufrir {}\\n El total de victimas fue {}'.format(int(df_temp.Año.mean()),int(df_temp.Mes.mean()),int(df_temp.Día.mean()),0,df_temp['Total de Víctimas del Caso'].count()))\n"
      ],
      "metadata": {
        "colab": {
          "base_uri": "https://localhost:8080/"
        },
        "id": "JcxqmeTvwhDi",
        "outputId": "e53ef492-36fe-4d49-9d37-9d8900d887fa"
      },
      "execution_count": null,
      "outputs": [
        {
          "output_type": "stream",
          "name": "stdout",
          "text": [
            " El año promedio donde se registraron victimas fue 1976 \n",
            " El mes del año promedio en donde se registraron victimas fue 6\n",
            " El dia promedio donde se registraron más victimas fue 14\n",
            " Este departamento tiene mayor probabilidad de sufrir 0\n",
            " El total de victimas fue 1772\n"
          ]
        }
      ]
    },
    {
      "cell_type": "markdown",
      "source": [
        "# Departamento Meta"
      ],
      "metadata": {
        "id": "OAAfvS7UVw12"
      }
    },
    {
      "cell_type": "code",
      "source": [
        "df_temp = violencia[violencia['Departamento'] == 'Meta']\n",
        "print(' El año promedio donde se registraron victimas fue {} \\n El mes del año promedio en donde se registraron victimas fue {}\\n El dia promedio donde se registraron más victimas fue {}\\n Este departamento tiene mayor probabilidad de sufrir {}\\n El total de victimas fue {}'.format(int(df_temp.Año.mean()),int(df_temp.Mes.mean()),int(df_temp.Día.mean()),0,df_temp['Total de Víctimas del Caso'].count()))\n"
      ],
      "metadata": {
        "colab": {
          "base_uri": "https://localhost:8080/"
        },
        "id": "XJ6dh_V-xLnq",
        "outputId": "91a7937b-603f-4c04-d3b9-b8f0946d0435"
      },
      "execution_count": null,
      "outputs": [
        {
          "output_type": "stream",
          "name": "stdout",
          "text": [
            " El año promedio donde se registraron victimas fue 1892 \n",
            " El mes del año promedio en donde se registraron victimas fue 5\n",
            " El dia promedio donde se registraron más victimas fue 11\n",
            " Este departamento tiene mayor probabilidad de sufrir 0\n",
            " El total de victimas fue 419\n"
          ]
        }
      ]
    },
    {
      "cell_type": "markdown",
      "source": [
        "# Departamento Nariño"
      ],
      "metadata": {
        "id": "8jLpJHoNVw16"
      }
    },
    {
      "cell_type": "code",
      "source": [
        "df_temp = violencia[violencia['Departamento'] == 'Nariño']\n",
        "print(' El año promedio donde se registraron victimas fue {} \\n El mes del año promedio en donde se registraron victimas fue {}\\n El dia promedio donde se registraron más victimas fue {}\\n Este departamento tiene mayor probabilidad de sufrir {}\\n El total de victimas fue {}'.format(int(df_temp.Año.mean()),int(df_temp.Mes.mean()),int(df_temp.Día.mean()),0,df_temp['Total de Víctimas del Caso'].count()))\n"
      ],
      "metadata": {
        "colab": {
          "base_uri": "https://localhost:8080/"
        },
        "id": "BuOy4M2JxNlf",
        "outputId": "c836e7c6-f1fb-4135-f9db-886457359701"
      },
      "execution_count": null,
      "outputs": [
        {
          "output_type": "stream",
          "name": "stdout",
          "text": [
            " El año promedio donde se registraron victimas fue 1977 \n",
            " El mes del año promedio en donde se registraron victimas fue 6\n",
            " El dia promedio donde se registraron más victimas fue 12\n",
            " Este departamento tiene mayor probabilidad de sufrir 0\n",
            " El total de victimas fue 1030\n"
          ]
        }
      ]
    },
    {
      "cell_type": "markdown",
      "source": [
        "# Departamento Norte de Santander"
      ],
      "metadata": {
        "id": "Gus9oi3LVw17"
      }
    },
    {
      "cell_type": "code",
      "source": [
        "df_temp = violencia[violencia['Departamento'] == 'Santander']\n",
        "print(' El año promedio donde se registraron victimas fue {} \\n El mes del año promedio en donde se registraron victimas fue {}\\n El dia promedio donde se registraron más victimas fue {}\\n Este departamento tiene mayor probabilidad de sufrir {}\\n El total de victimas fue {}'.format(int(df_temp.Año.mean()),int(df_temp.Mes.mean()),int(df_temp.Día.mean()),0,df_temp['Total de Víctimas del Caso'].count()))\n"
      ],
      "metadata": {
        "colab": {
          "base_uri": "https://localhost:8080/"
        },
        "id": "FESdvD4NxSly",
        "outputId": "7580d682-9006-43ff-c0e2-1a416ca00dcc"
      },
      "execution_count": null,
      "outputs": [
        {
          "output_type": "stream",
          "name": "stdout",
          "text": [
            " El año promedio donde se registraron victimas fue 1905 \n",
            " El mes del año promedio en donde se registraron victimas fue 5\n",
            " El dia promedio donde se registraron más victimas fue 9\n",
            " Este departamento tiene mayor probabilidad de sufrir 0\n",
            " El total de victimas fue 428\n"
          ]
        }
      ]
    },
    {
      "cell_type": "markdown",
      "source": [
        "# Departamento Putumayo"
      ],
      "metadata": {
        "id": "zvv--3vTVw19"
      }
    },
    {
      "cell_type": "code",
      "source": [
        "df_temp = violencia[violencia['Departamento'] == 'Putumayo']\n",
        "print(' El año promedio donde se registraron victimas fue {} \\n El mes del año promedio en donde se registraron victimas fue {}\\n El dia promedio donde se registraron más victimas fue {}\\n Este departamento tiene mayor probabilidad de sufrir {}\\n El total de victimas fue {}'.format(int(df_temp.Año.mean()),int(df_temp.Mes.mean()),int(df_temp.Día.mean()),0,df_temp['Total de Víctimas del Caso'].count()))\n"
      ],
      "metadata": {
        "colab": {
          "base_uri": "https://localhost:8080/"
        },
        "id": "r69RUYabxVBy",
        "outputId": "1f7eecca-416c-4828-a1b6-5372e81b7cef"
      },
      "execution_count": null,
      "outputs": [
        {
          "output_type": "stream",
          "name": "stdout",
          "text": [
            " El año promedio donde se registraron victimas fue 1955 \n",
            " El mes del año promedio en donde se registraron victimas fue 5\n",
            " El dia promedio donde se registraron más victimas fue 12\n",
            " Este departamento tiene mayor probabilidad de sufrir 0\n",
            " El total de victimas fue 841\n"
          ]
        }
      ]
    },
    {
      "cell_type": "markdown",
      "source": [
        "# Departamento Quindío"
      ],
      "metadata": {
        "id": "MCG0D8WIVw1_"
      }
    },
    {
      "cell_type": "code",
      "source": [
        "df_temp = violencia[violencia['Departamento'] == 'Quindio']\n",
        "print(' El año promedio donde se registraron victimas fue {} \\n El mes del año promedio en donde se registraron victimas fue {}\\n El dia promedio donde se registraron más victimas fue {}\\n Este departamento tiene mayor probabilidad de sufrir {}\\n El total de victimas fue {}'.format(int(df_temp.Año.mean()),int(df_temp.Mes.mean()),int(df_temp.Día.mean()),0,df_temp['Total de Víctimas del Caso'].count()))\n"
      ],
      "metadata": {
        "colab": {
          "base_uri": "https://localhost:8080/"
        },
        "id": "3t_Rl5ldxYQ3",
        "outputId": "98fbec10-cf24-4231-ed89-6cfdecc73bc4"
      },
      "execution_count": null,
      "outputs": [
        {
          "output_type": "stream",
          "name": "stdout",
          "text": [
            " El año promedio donde se registraron victimas fue 1895 \n",
            " El mes del año promedio en donde se registraron victimas fue 5\n",
            " El dia promedio donde se registraron más victimas fue 11\n",
            " Este departamento tiene mayor probabilidad de sufrir 0\n",
            " El total de victimas fue 37\n"
          ]
        }
      ]
    },
    {
      "cell_type": "markdown",
      "source": [
        "# Departamento Risaralda"
      ],
      "metadata": {
        "id": "0By7KvzsVw2A"
      }
    },
    {
      "cell_type": "code",
      "source": [
        "df_temp = violencia[violencia['Departamento'] == 'Risaralda']\n",
        "print(' El año promedio donde se registraron victimas fue {} \\n El mes del año promedio en donde se registraron victimas fue {}\\n El dia promedio donde se registraron más victimas fue {}\\n Este departamento tiene mayor probabilidad de sufrir {}\\n El total de victimas fue {}'.format(int(df_temp.Año.mean()),int(df_temp.Mes.mean()),int(df_temp.Día.mean()),0,df_temp['Total de Víctimas del Caso'].count()))\n"
      ],
      "metadata": {
        "colab": {
          "base_uri": "https://localhost:8080/"
        },
        "id": "p6xWPlyxxZ45",
        "outputId": "d4ce6bd7-6c26-4aa5-ca1d-5c64a281b5d7"
      },
      "execution_count": null,
      "outputs": [
        {
          "output_type": "stream",
          "name": "stdout",
          "text": [
            " El año promedio donde se registraron victimas fue 1926 \n",
            " El mes del año promedio en donde se registraron victimas fue 5\n",
            " El dia promedio donde se registraron más victimas fue 10\n",
            " Este departamento tiene mayor probabilidad de sufrir 0\n",
            " El total de victimas fue 134\n"
          ]
        }
      ]
    },
    {
      "cell_type": "markdown",
      "source": [
        "# Departamento San Andrés y Providencia "
      ],
      "metadata": {
        "id": "QMibGCBnVFeX"
      }
    },
    {
      "cell_type": "code",
      "source": [
        "df_temp = violencia[violencia['Departamento'] == 'Archipielago De San Andres, Providencia Y Santa Catalina']\n",
        "print(' El año promedio donde se registraron victimas fue {} \\n El mes del año promedio en donde se registraron victimas fue {}\\n El dia promedio donde se registraron más victimas fue {}\\n Este departamento tiene mayor probabilidad de sufrir {}\\n El total de victimas fue {}'.format(int(df_temp.Año.mean()),int(df_temp.Mes.mean()),int(df_temp.Día.mean()),0,df_temp['Total de Víctimas del Caso'].count()))\n"
      ],
      "metadata": {
        "colab": {
          "base_uri": "https://localhost:8080/"
        },
        "id": "KyVyCULMxbqj",
        "outputId": "4a1958a8-3933-4460-e58f-6bcac25dc609"
      },
      "execution_count": null,
      "outputs": [
        {
          "output_type": "stream",
          "name": "stdout",
          "text": [
            " El año promedio donde se registraron victimas fue 1974 \n",
            " El mes del año promedio en donde se registraron victimas fue 6\n",
            " El dia promedio donde se registraron más victimas fue 9\n",
            " Este departamento tiene mayor probabilidad de sufrir 0\n",
            " El total de victimas fue 1\n"
          ]
        }
      ]
    },
    {
      "cell_type": "markdown",
      "source": [
        "# Departamento Santander"
      ],
      "metadata": {
        "id": "Tkt5ILwyVvRU"
      }
    },
    {
      "cell_type": "code",
      "source": [
        "df_temp = violencia[violencia['Departamento'] == 'Santander']\n",
        "print(' El año promedio donde se registraron victimas fue {} \\n El mes del año promedio en donde se registraron victimas fue {}\\n El dia promedio donde se registraron más victimas fue {}\\n Este departamento tiene mayor probabilidad de sufrir {}\\n El total de victimas fue {}'.format(int(df_temp.Año.mean()),int(df_temp.Mes.mean()),int(df_temp.Día.mean()),0,df_temp['Total de Víctimas del Caso'].count()))\n"
      ],
      "metadata": {
        "colab": {
          "base_uri": "https://localhost:8080/"
        },
        "id": "41acmV6oxiiu",
        "outputId": "f959ef4b-8d63-4ac3-cba2-28610416a51b"
      },
      "execution_count": null,
      "outputs": [
        {
          "output_type": "stream",
          "name": "stdout",
          "text": [
            " El año promedio donde se registraron victimas fue 1905 \n",
            " El mes del año promedio en donde se registraron victimas fue 5\n",
            " El dia promedio donde se registraron más victimas fue 9\n",
            " Este departamento tiene mayor probabilidad de sufrir 0\n",
            " El total de victimas fue 428\n"
          ]
        }
      ]
    },
    {
      "cell_type": "markdown",
      "source": [
        "# Departamento Sucre"
      ],
      "metadata": {
        "id": "81WinV6lVvRZ"
      }
    },
    {
      "cell_type": "code",
      "source": [
        "df_temp = violencia[violencia['Departamento'] == 'Sucre']\n",
        "print(' El año promedio donde se registraron victimas fue {} \\n El mes del año promedio en donde se registraron victimas fue {}\\n El dia promedio donde se registraron más victimas fue {}\\n Este departamento tiene mayor probabilidad de sufrir {}\\n El total de victimas fue {}'.format(int(df_temp.Año.mean()),int(df_temp.Mes.mean()),int(df_temp.Día.mean()),0,df_temp['Total de Víctimas del Caso'].count()))\n"
      ],
      "metadata": {
        "colab": {
          "base_uri": "https://localhost:8080/"
        },
        "id": "qOVsexWzxmdH",
        "outputId": "5d5c1ea6-b79d-4a71-9540-eb6d7b470be1"
      },
      "execution_count": null,
      "outputs": [
        {
          "output_type": "stream",
          "name": "stdout",
          "text": [
            " El año promedio donde se registraron victimas fue 1922 \n",
            " El mes del año promedio en donde se registraron victimas fue 5\n",
            " El dia promedio donde se registraron más victimas fue 13\n",
            " Este departamento tiene mayor probabilidad de sufrir 0\n",
            " El total de victimas fue 304\n"
          ]
        }
      ]
    },
    {
      "cell_type": "markdown",
      "source": [
        "# Departamento Tolima"
      ],
      "metadata": {
        "id": "8zDpFABUVvRe"
      }
    },
    {
      "cell_type": "code",
      "source": [
        "df_temp = violencia[violencia['Departamento'] == 'Tolima']\n",
        "print(' El año promedio donde se registraron victimas fue {} \\n El mes del año promedio en donde se registraron victimas fue {}\\n El dia promedio donde se registraron más victimas fue {}\\n Este departamento tiene mayor probabilidad de sufrir {}\\n El total de victimas fue {}'.format(int(df_temp.Año.mean()),int(df_temp.Mes.mean()),int(df_temp.Día.mean()),0,df_temp['Total de Víctimas del Caso'].count()))\n"
      ],
      "metadata": {
        "colab": {
          "base_uri": "https://localhost:8080/"
        },
        "id": "dGcsybCtxnqN",
        "outputId": "002c0215-01ec-47ae-f48d-255c38203e59"
      },
      "execution_count": null,
      "outputs": [
        {
          "output_type": "stream",
          "name": "stdout",
          "text": [
            " El año promedio donde se registraron victimas fue 1946 \n",
            " El mes del año promedio en donde se registraron victimas fue 5\n",
            " El dia promedio donde se registraron más victimas fue 11\n",
            " Este departamento tiene mayor probabilidad de sufrir 0\n",
            " El total de victimas fue 417\n"
          ]
        }
      ]
    },
    {
      "cell_type": "markdown",
      "source": [
        "# Departamento Valle del Cauca"
      ],
      "metadata": {
        "id": "mg5VwJ1TgYXj"
      }
    },
    {
      "cell_type": "code",
      "source": [
        "df_temp = violencia[violencia['Departamento'] == 'Valle Del Cauca']\n",
        "print(' El año promedio donde se registraron victimas fue {} \\n El mes del año promedio en donde se registraron victimas fue {}\\n El dia promedio donde se registraron más victimas fue {}\\n Este departamento tiene mayor probabilidad de sufrir {}\\n El total de victimas fue {}'.format(int(df_temp.Año.mean()),int(df_temp.Mes.mean()),int(df_temp.Día.mean()),0,df_temp['Total de Víctimas del Caso'].count()))\n"
      ],
      "metadata": {
        "colab": {
          "base_uri": "https://localhost:8080/"
        },
        "id": "vrKrpkixxpep",
        "outputId": "9fa147b9-24ee-4b78-9c63-217729eb06f7"
      },
      "execution_count": null,
      "outputs": [
        {
          "output_type": "stream",
          "name": "stdout",
          "text": [
            " El año promedio donde se registraron victimas fue 1935 \n",
            " El mes del año promedio en donde se registraron victimas fue 5\n",
            " El dia promedio donde se registraron más victimas fue 12\n",
            " Este departamento tiene mayor probabilidad de sufrir 0\n",
            " El total de victimas fue 697\n"
          ]
        }
      ]
    },
    {
      "cell_type": "markdown",
      "source": [
        "# Departamento Vaupés"
      ],
      "metadata": {
        "id": "q5WGTGaAgYXn"
      }
    },
    {
      "cell_type": "code",
      "source": [
        "df_temp = violencia[violencia['Departamento'] == 'Vaupes']\n",
        "print(' El año promedio donde se registraron victimas fue {} \\n El mes del año promedio en donde se registraron victimas fue {}\\n El dia promedio donde se registraron más victimas fue {}\\n Este departamento tiene mayor probabilidad de sufrir {}\\n El total de victimas fue {}'.format(int(df_temp.Año.mean()),int(df_temp.Mes.mean()),int(df_temp.Día.mean()),0,df_temp['Total de Víctimas del Caso'].count()))\n"
      ],
      "metadata": {
        "colab": {
          "base_uri": "https://localhost:8080/"
        },
        "id": "4ZM85uwTx8XE",
        "outputId": "0b20e5ea-f184-4f7d-c449-6ab5507c3560"
      },
      "execution_count": null,
      "outputs": [
        {
          "output_type": "stream",
          "name": "stdout",
          "text": [
            " El año promedio donde se registraron victimas fue 2002 \n",
            " El mes del año promedio en donde se registraron victimas fue 6\n",
            " El dia promedio donde se registraron más victimas fue 10\n",
            " Este departamento tiene mayor probabilidad de sufrir 0\n",
            " El total de victimas fue 17\n"
          ]
        }
      ]
    },
    {
      "cell_type": "markdown",
      "source": [
        "# Departamento Vichada"
      ],
      "metadata": {
        "id": "8FPiqwR4gZIF"
      }
    },
    {
      "cell_type": "code",
      "source": [
        "df_temp = violencia[violencia['Departamento'] == 'Vichada']\n",
        "print(' El año promedio donde se registraron victimas fue {} \\n El mes del año promedio en donde se registraron victimas fue {}\\n El dia promedio donde se registraron más victimas fue {}\\n Este departamento tiene mayor probabilidad de sufrir {}\\n El total de victimas fue {}'.format(int(df_temp.Año.mean()),int(df_temp.Mes.mean()),int(df_temp.Día.mean()),0,df_temp['Total de Víctimas del Caso'].count()))\n"
      ],
      "metadata": {
        "colab": {
          "base_uri": "https://localhost:8080/"
        },
        "id": "IVdGBqWWx-38",
        "outputId": "2c130710-2b20-492f-c475-b9f3419136b3"
      },
      "execution_count": null,
      "outputs": [
        {
          "output_type": "stream",
          "name": "stdout",
          "text": [
            " El año promedio donde se registraron victimas fue 1972 \n",
            " El mes del año promedio en donde se registraron victimas fue 5\n",
            " El dia promedio donde se registraron más victimas fue 9\n",
            " Este departamento tiene mayor probabilidad de sufrir 0\n",
            " El total de victimas fue 63\n"
          ]
        }
      ]
    }
  ]
}